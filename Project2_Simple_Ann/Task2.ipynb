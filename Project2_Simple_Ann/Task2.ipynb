{
 "cells": [
  {
   "cell_type": "code",
   "execution_count": 1,
   "id": "ad2c7b07",
   "metadata": {
    "id": "074f372c-4813-4f3b-bde4-b7782843ae7e"
   },
   "outputs": [],
   "source": [
    "# Use this example - https://machinelearningmastery.com/develop-your-first-neural-network-with-pytorch-step-by-step/ to understand pytorch NNs.\n",
    "# Augment the dataset by perturbing the data fields with gaussian noise. Train/test/validate. Take a screencast walkthrough of the full code,\n",
    "# including your understanding of how the NN is implemented."
   ]
  },
  {
   "cell_type": "code",
   "execution_count": 2,
   "id": "be8fd86e",
   "metadata": {
    "id": "0e2ffd89-326f-405f-85c2-e07d48392c53"
   },
   "outputs": [],
   "source": [
    "#Importing Dependencies required\n",
    "\n",
    "import torch\n",
    "import torch.nn as nn\n",
    "import pandas as pd\n",
    "import random\n",
    "import torch.optim as optim\n",
    "from sklearn.model_selection import train_test_split"
   ]
  },
  {
   "cell_type": "code",
   "execution_count": 3,
   "id": "b5f1124e",
   "metadata": {
    "id": "61218c16-e787-4f98-8ce9-156233e83a15"
   },
   "outputs": [],
   "source": [
    "#Loading the Dataset"
   ]
  },
  {
   "cell_type": "code",
   "execution_count": 4,
   "id": "121cf249",
   "metadata": {
    "id": "15bc6c74-6dc8-4df2-819e-a37b623ea087"
   },
   "outputs": [],
   "source": [
    "df = pd.read_csv(\"pima-indians-diabetes.data.csv\" ,names=['Pregnancies', 'Glucose', 'BP', 'Skin thickness', 'Insulin','BMI','Function','Age','Outcome'])"
   ]
  },
  {
   "cell_type": "code",
   "execution_count": 5,
   "id": "b1122678",
   "metadata": {
    "colab": {
     "base_uri": "https://localhost:8080/",
     "height": 206
    },
    "id": "73253ef7-3785-42ee-a713-4fb195c2f0a3",
    "outputId": "cdbc4e89-20a6-4f0c-d115-c82decb19b1a"
   },
   "outputs": [
    {
     "data": {
      "text/html": [
       "<div>\n",
       "<style scoped>\n",
       "    .dataframe tbody tr th:only-of-type {\n",
       "        vertical-align: middle;\n",
       "    }\n",
       "\n",
       "    .dataframe tbody tr th {\n",
       "        vertical-align: top;\n",
       "    }\n",
       "\n",
       "    .dataframe thead th {\n",
       "        text-align: right;\n",
       "    }\n",
       "</style>\n",
       "<table border=\"1\" class=\"dataframe\">\n",
       "  <thead>\n",
       "    <tr style=\"text-align: right;\">\n",
       "      <th></th>\n",
       "      <th>Pregnancies</th>\n",
       "      <th>Glucose</th>\n",
       "      <th>BP</th>\n",
       "      <th>Skin thickness</th>\n",
       "      <th>Insulin</th>\n",
       "      <th>BMI</th>\n",
       "      <th>Function</th>\n",
       "      <th>Age</th>\n",
       "      <th>Outcome</th>\n",
       "    </tr>\n",
       "  </thead>\n",
       "  <tbody>\n",
       "    <tr>\n",
       "      <th>0</th>\n",
       "      <td>6</td>\n",
       "      <td>148</td>\n",
       "      <td>72</td>\n",
       "      <td>35</td>\n",
       "      <td>0</td>\n",
       "      <td>33.6</td>\n",
       "      <td>0.627</td>\n",
       "      <td>50</td>\n",
       "      <td>1</td>\n",
       "    </tr>\n",
       "    <tr>\n",
       "      <th>1</th>\n",
       "      <td>1</td>\n",
       "      <td>85</td>\n",
       "      <td>66</td>\n",
       "      <td>29</td>\n",
       "      <td>0</td>\n",
       "      <td>26.6</td>\n",
       "      <td>0.351</td>\n",
       "      <td>31</td>\n",
       "      <td>0</td>\n",
       "    </tr>\n",
       "    <tr>\n",
       "      <th>2</th>\n",
       "      <td>8</td>\n",
       "      <td>183</td>\n",
       "      <td>64</td>\n",
       "      <td>0</td>\n",
       "      <td>0</td>\n",
       "      <td>23.3</td>\n",
       "      <td>0.672</td>\n",
       "      <td>32</td>\n",
       "      <td>1</td>\n",
       "    </tr>\n",
       "    <tr>\n",
       "      <th>3</th>\n",
       "      <td>1</td>\n",
       "      <td>89</td>\n",
       "      <td>66</td>\n",
       "      <td>23</td>\n",
       "      <td>94</td>\n",
       "      <td>28.1</td>\n",
       "      <td>0.167</td>\n",
       "      <td>21</td>\n",
       "      <td>0</td>\n",
       "    </tr>\n",
       "    <tr>\n",
       "      <th>4</th>\n",
       "      <td>0</td>\n",
       "      <td>137</td>\n",
       "      <td>40</td>\n",
       "      <td>35</td>\n",
       "      <td>168</td>\n",
       "      <td>43.1</td>\n",
       "      <td>2.288</td>\n",
       "      <td>33</td>\n",
       "      <td>1</td>\n",
       "    </tr>\n",
       "  </tbody>\n",
       "</table>\n",
       "</div>"
      ],
      "text/plain": [
       "   Pregnancies  Glucose  BP  Skin thickness  Insulin   BMI  Function  Age  \\\n",
       "0            6      148  72              35        0  33.6     0.627   50   \n",
       "1            1       85  66              29        0  26.6     0.351   31   \n",
       "2            8      183  64               0        0  23.3     0.672   32   \n",
       "3            1       89  66              23       94  28.1     0.167   21   \n",
       "4            0      137  40              35      168  43.1     2.288   33   \n",
       "\n",
       "   Outcome  \n",
       "0        1  \n",
       "1        0  \n",
       "2        1  \n",
       "3        0  \n",
       "4        1  "
      ]
     },
     "execution_count": 5,
     "metadata": {},
     "output_type": "execute_result"
    }
   ],
   "source": [
    "df.head()             #Printing first 5 data alone"
   ]
  },
  {
   "cell_type": "code",
   "execution_count": 6,
   "id": "b856e6c1",
   "metadata": {
    "id": "33cc2094-4144-4e3a-842d-203b2a9a2099"
   },
   "outputs": [],
   "source": [
    "#Splitting the Dataset into Data and targets\n",
    "\n",
    "X = df.drop(\"Outcome\", axis = 1).values\n",
    "Y = df[\"Outcome\"].values"
   ]
  },
  {
   "cell_type": "code",
   "execution_count": 7,
   "id": "cd393684",
   "metadata": {
    "colab": {
     "base_uri": "https://localhost:8080/"
    },
    "id": "8b8bb87d-9ea2-48e8-8173-b66ff93ad146",
    "outputId": "2043f3fa-5d75-4205-eb16-c910f9216696"
   },
   "outputs": [
    {
     "name": "stdout",
     "output_type": "stream",
     "text": [
      "[[  6.    148.     72.    ...  33.6     0.627  50.   ]\n",
      " [  1.     85.     66.    ...  26.6     0.351  31.   ]\n",
      " [  8.    183.     64.    ...  23.3     0.672  32.   ]\n",
      " ...\n",
      " [  5.    121.     72.    ...  26.2     0.245  30.   ]\n",
      " [  1.    126.     60.    ...  30.1     0.349  47.   ]\n",
      " [  1.     93.     70.    ...  30.4     0.315  23.   ]]\n"
     ]
    }
   ],
   "source": [
    "print(X)"
   ]
  },
  {
   "cell_type": "code",
   "execution_count": 8,
   "id": "7f7cfecd",
   "metadata": {
    "colab": {
     "base_uri": "https://localhost:8080/"
    },
    "id": "be64146d-2cf6-49df-b27f-cabb981c38b3",
    "outputId": "12b7504b-c2a2-4d45-d231-7ab437279888"
   },
   "outputs": [
    {
     "name": "stdout",
     "output_type": "stream",
     "text": [
      "[1 0 1 0 1 0 1 0 1 1 0 1 0 1 1 1 1 1 0 1 0 0 1 1 1 1 1 0 0 0 0 1 0 0 0 0 0\n",
      " 1 1 1 0 0 0 1 0 1 0 0 1 0 0 0 0 1 0 0 1 0 0 0 0 1 0 0 1 0 1 0 0 0 1 0 1 0\n",
      " 0 0 0 0 1 0 0 0 0 0 1 0 0 0 1 0 0 0 0 1 0 0 0 0 0 1 1 0 0 0 0 0 0 0 0 1 1\n",
      " 1 0 0 1 1 1 0 0 0 1 0 0 0 1 1 0 0 1 1 1 1 1 0 0 0 0 0 0 0 0 0 0 1 0 0 0 0\n",
      " 0 0 0 0 1 0 1 1 0 0 0 1 0 0 0 0 1 1 0 0 0 0 1 1 0 0 0 1 0 1 0 1 0 0 0 0 0\n",
      " 1 1 1 1 1 0 0 1 1 0 1 0 1 1 1 0 0 0 0 0 0 1 1 0 1 0 0 0 1 1 1 1 0 1 1 1 1\n",
      " 0 0 0 0 0 1 0 0 1 1 0 0 0 1 1 1 1 0 0 0 1 1 0 1 0 0 0 0 0 0 0 0 1 1 0 0 0\n",
      " 1 0 1 0 0 1 0 1 0 0 1 1 0 0 0 0 0 1 0 0 0 1 0 0 1 1 0 0 1 0 0 0 1 1 1 0 0\n",
      " 1 0 1 0 1 1 0 1 0 0 1 0 1 1 0 0 1 0 1 0 0 1 0 1 0 1 1 1 0 0 1 0 1 0 0 0 1\n",
      " 0 0 0 0 1 1 1 0 0 0 0 0 0 0 0 0 1 0 0 0 0 0 1 1 1 0 1 1 0 0 1 0 0 1 0 0 1\n",
      " 1 0 0 0 0 1 0 0 1 0 0 0 0 0 0 0 1 1 1 0 0 1 0 0 1 0 0 1 0 1 1 0 1 0 1 0 1\n",
      " 0 1 1 0 0 0 0 1 1 0 1 0 1 0 0 0 0 1 1 0 1 0 1 0 0 0 0 0 1 0 0 0 0 1 0 0 1\n",
      " 1 1 0 0 1 0 0 1 0 0 0 1 0 0 1 0 0 0 0 0 0 0 0 0 1 0 0 0 0 0 0 0 1 0 0 0 1\n",
      " 0 0 0 1 1 0 0 0 0 0 0 0 1 0 0 0 0 1 0 0 0 1 0 0 0 1 0 0 0 1 0 0 0 0 1 1 0\n",
      " 0 0 0 0 0 1 0 0 0 0 0 0 0 0 0 0 0 1 0 0 0 1 1 1 1 0 0 1 1 0 0 0 0 0 0 0 0\n",
      " 0 0 0 0 0 1 1 0 0 0 0 0 0 0 1 0 0 0 0 0 0 0 1 0 1 1 0 0 0 1 0 1 0 1 0 1 0\n",
      " 1 0 0 1 0 0 1 0 0 0 0 1 1 0 1 0 0 0 0 1 1 0 1 0 0 0 1 1 0 0 0 0 0 0 0 0 0\n",
      " 0 1 0 0 0 0 1 0 0 1 0 0 0 1 0 0 0 1 1 1 0 0 0 0 0 0 1 0 0 0 1 0 1 1 1 1 0\n",
      " 1 1 0 0 0 0 0 0 0 1 1 0 1 0 0 1 0 1 0 0 0 0 0 1 0 1 0 1 0 1 1 0 0 0 0 1 1\n",
      " 0 0 0 1 0 1 1 0 0 1 0 0 1 1 0 0 1 0 0 1 0 0 0 0 0 0 0 1 1 1 0 0 0 0 0 0 1\n",
      " 1 0 0 1 0 0 1 0 1 1 1 0 0 1 1 1 0 1 0 1 0 1 0 0 0 0 1 0]\n"
     ]
    }
   ],
   "source": [
    "print(Y)"
   ]
  },
  {
   "cell_type": "code",
   "execution_count": 9,
   "id": "adbeb142",
   "metadata": {
    "id": "2407cf7d-97ab-4a97-8c54-ca30ff121e33"
   },
   "outputs": [],
   "source": [
    "#Converting the data to tensors\n",
    "\n",
    "X=torch.tensor(X,dtype=torch.float32)\n",
    "Y=torch.tensor(Y,dtype=torch.float32).reshape(-1,1)"
   ]
  },
  {
   "cell_type": "code",
   "execution_count": 10,
   "id": "bd8089a7",
   "metadata": {
    "colab": {
     "base_uri": "https://localhost:8080/"
    },
    "id": "eba71ed8-7a4a-49cb-89e8-47dd726fb661",
    "outputId": "9132e126-9690-4c64-aabb-1a685d56102c"
   },
   "outputs": [
    {
     "name": "stdout",
     "output_type": "stream",
     "text": [
      "tensor([[  6.0000, 148.0000,  72.0000,  ...,  33.6000,   0.6270,  50.0000],\n",
      "        [  1.0000,  85.0000,  66.0000,  ...,  26.6000,   0.3510,  31.0000],\n",
      "        [  8.0000, 183.0000,  64.0000,  ...,  23.3000,   0.6720,  32.0000],\n",
      "        ...,\n",
      "        [  5.0000, 121.0000,  72.0000,  ...,  26.2000,   0.2450,  30.0000],\n",
      "        [  1.0000, 126.0000,  60.0000,  ...,  30.1000,   0.3490,  47.0000],\n",
      "        [  1.0000,  93.0000,  70.0000,  ...,  30.4000,   0.3150,  23.0000]])\n"
     ]
    }
   ],
   "source": [
    "print(X)"
   ]
  },
  {
   "cell_type": "code",
   "execution_count": 11,
   "id": "6109a3c0",
   "metadata": {
    "id": "e12d741c-0eba-4690-8f91-ef73d01f36d2"
   },
   "outputs": [],
   "source": [
    "#Splitting the data to training and testing data\n",
    "\n",
    "X_train, X_test, Y_train,Y_test = train_test_split(X,Y,test_size=0.2,random_state=0)\n",
    "X_train, X_val, y_train, y_val = train_test_split(X_train, Y_train, test_size=0.25, random_state=0) #further splitting the train data into train set and validation set"
   ]
  },
  {
   "cell_type": "code",
   "execution_count": 12,
   "id": "6cd0373f",
   "metadata": {},
   "outputs": [
    {
     "name": "stdout",
     "output_type": "stream",
     "text": [
      "tensor([[  1.0000, 111.0000,  62.0000,  ...,  24.0000,   0.1380,  23.0000],\n",
      "        [  0.0000, 106.0000,  70.0000,  ...,  39.4000,   0.6050,  22.0000],\n",
      "        [  0.0000, 101.0000,  76.0000,  ...,  35.7000,   0.1980,  26.0000],\n",
      "        ...,\n",
      "        [  4.0000, 134.0000,  72.0000,  ...,  23.8000,   0.2770,  60.0000],\n",
      "        [  5.0000, 128.0000,  80.0000,  ...,  34.6000,   0.1440,  45.0000],\n",
      "        [  1.0000,  71.0000,  78.0000,  ...,  33.2000,   0.4220,  21.0000]])\n"
     ]
    }
   ],
   "source": [
    "print(X_train)"
   ]
  },
  {
   "cell_type": "code",
   "execution_count": 13,
   "id": "48d1ffa7",
   "metadata": {
    "colab": {
     "base_uri": "https://localhost:8080/"
    },
    "id": "d22568c0-07e2-418b-9883-6b72c2ef3923",
    "outputId": "c8bc3f0c-1a9a-40d2-8757-2a914e91d6d2"
   },
   "outputs": [
    {
     "name": "stdout",
     "output_type": "stream",
     "text": [
      "torch.Size([768, 8]) torch.Size([460, 8]) torch.Size([154, 8])\n"
     ]
    }
   ],
   "source": [
    "#printing the shape of the training and testing\n",
    "print(X.shape,X_train.shape, X_test.shape)"
   ]
  },
  {
   "cell_type": "code",
   "execution_count": 14,
   "id": "00920261",
   "metadata": {
    "id": "28e67a0e-87de-4167-87ae-c5537024c26e"
   },
   "outputs": [],
   "source": [
    "#Creating Model with Pytorch\n",
    "\n",
    "class ANN_Model(nn.Module):\n",
    "    def __init__(self,input_features,hidden1,hidden2,output):\n",
    "        super().__init__()\n",
    "        self.f_connected1=nn.Linear(input_features,hidden1)\n",
    "        self.act1 = nn.ReLU()\n",
    "        self.f_connected2=nn.Linear(hidden1,hidden2)\n",
    "        self.act2 = nn.ReLU()\n",
    "        self.out=nn.Linear(hidden2,output)\n",
    "        self.act_output = nn.Sigmoid()\n",
    "\n",
    "    def forward(self,x):\n",
    "        x= self.act1(self.f_connected1(x))\n",
    "        x= self.act2(self.f_connected2(x))\n",
    "        x= self.act_output(self.out(x))\n",
    "        return x"
   ]
  },
  {
   "cell_type": "code",
   "execution_count": 15,
   "id": "5b93dc19",
   "metadata": {
    "colab": {
     "base_uri": "https://localhost:8080/"
    },
    "id": "db715483-143f-4a73-abc5-a6f953a42404",
    "outputId": "4ba4b5b7-9b80-46c8-98b7-c02ada38ed4c"
   },
   "outputs": [
    {
     "name": "stdout",
     "output_type": "stream",
     "text": [
      "ANN_Model(\n",
      "  (f_connected1): Linear(in_features=8, out_features=12, bias=True)\n",
      "  (act1): ReLU()\n",
      "  (f_connected2): Linear(in_features=12, out_features=12, bias=True)\n",
      "  (act2): ReLU()\n",
      "  (out): Linear(in_features=12, out_features=1, bias=True)\n",
      "  (act_output): Sigmoid()\n",
      ")\n"
     ]
    }
   ],
   "source": [
    "#Initializing the Model\n",
    "model = ANN_Model(8,12,12,1)\n",
    "print(model)"
   ]
  },
  {
   "cell_type": "code",
   "execution_count": 16,
   "id": "c6a9aa50",
   "metadata": {
    "id": "f6f3d594-4e2c-448a-8b51-cd5839ed05b8"
   },
   "outputs": [],
   "source": [
    "#Setting up Loss function and optimizers\n",
    "\n",
    "loss_fn = nn.BCELoss()\n",
    "optimizer = optim.Adam(model.parameters(), lr=0.001)"
   ]
  },
  {
   "cell_type": "code",
   "execution_count": 17,
   "id": "091eb6ba",
   "metadata": {
    "colab": {
     "base_uri": "https://localhost:8080/"
    },
    "id": "2a5aa595-ab74-4c1a-94e3-be628ddc35ef",
    "outputId": "9e6c9c6c-03c3-4e22-8e4e-1cc7392f19cc",
    "scrolled": true
   },
   "outputs": [
    {
     "name": "stdout",
     "output_type": "stream",
     "text": [
      "Epoch: 0, Train Loss: 1.3224,  Val Loss: 0.6957\n",
      "Epoch: 10, Train Loss: 0.6127,  Val Loss: 0.6847\n",
      "Epoch: 20, Train Loss: 0.5871,  Val Loss: 0.6705\n",
      "Epoch: 30, Train Loss: 0.5698,  Val Loss: 0.6612\n",
      "Epoch: 40, Train Loss: 0.5561,  Val Loss: 0.6630\n",
      "Epoch: 50, Train Loss: 0.5391,  Val Loss: 0.6581\n",
      "Epoch: 60, Train Loss: 0.5417,  Val Loss: 0.6681\n",
      "Epoch: 70, Train Loss: 0.5289,  Val Loss: 0.6517\n",
      "Epoch: 80, Train Loss: 0.5254,  Val Loss: 0.6658\n",
      "Epoch: 90, Train Loss: 0.5193,  Val Loss: 0.6435\n"
     ]
    }
   ],
   "source": [
    "#Training the Model\n",
    "\n",
    "n_epochs = 100\n",
    "batch_size = 10\n",
    "\n",
    "for epoch in range(n_epochs):\n",
    "    model.train()\n",
    "    train_loss = 0\n",
    "    for i in range(0, len(X_train), batch_size):\n",
    "        Xbatch = X_train[i:i+batch_size]\n",
    "        y_pred = model(Xbatch)\n",
    "        ybatch = y_train[i:i+batch_size]\n",
    "        loss = loss_fn(y_pred, ybatch)\n",
    "        optimizer.zero_grad()\n",
    "        loss.backward()\n",
    "        optimizer.step()\n",
    "        train_loss += loss.item()\n",
    "    train_loss /= len(X_train) / batch_size\n",
    "    #Validation Part\n",
    "    model.eval()\n",
    "    with torch.no_grad():\n",
    "        val_loss = 0\n",
    "        for i in range(0, len(X_val), batch_size):\n",
    "            Xbatch = X_val[i:i+batch_size]\n",
    "            ybatch = y_val[i:i+batch_size]\n",
    "            y_pred=model(Xbatch)\n",
    "            val_loss += loss_fn(y_pred, ybatch)\n",
    "        val_loss /= len(X_val) / batch_size\n",
    "    if epoch % 10 == 0:\n",
    "      print(f\"Epoch: {epoch}, Train Loss: {train_loss:.4f},  Val Loss: {val_loss:.4f}\")"
   ]
  },
  {
   "cell_type": "code",
   "execution_count": 18,
   "id": "2278fd96",
   "metadata": {
    "colab": {
     "base_uri": "https://localhost:8080/"
    },
    "id": "2bf7aea2-70d0-4230-a151-85a49bf4c0e6",
    "outputId": "36db9603-4e64-4d62-dce8-6db3ea33a47b"
   },
   "outputs": [
    {
     "name": "stdout",
     "output_type": "stream",
     "text": [
      "Test loss: 0.5218632817268372\n"
     ]
    }
   ],
   "source": [
    "#getting the Loss for Test Data\n",
    "\n",
    "with torch.no_grad():\n",
    "    y_pred = model(X_test)\n",
    "    test_loss = loss_fn(y_pred, Y_test)\n",
    "\n",
    "print(f'Test loss: {test_loss.item()}')"
   ]
  },
  {
   "cell_type": "code",
   "execution_count": 19,
   "id": "1acb4dad",
   "metadata": {
    "colab": {
     "base_uri": "https://localhost:8080/"
    },
    "id": "06cccdd4-2451-476a-b210-7cfc975ac61b",
    "outputId": "a012527a-3e03-4114-928e-0a2eee4c760a"
   },
   "outputs": [
    {
     "name": "stdout",
     "output_type": "stream",
     "text": [
      "Accuracy 0.7532467246055603\n"
     ]
    }
   ],
   "source": [
    "#getting the accuracy of the model\n",
    "\n",
    "y_pred = model(X_test) #predicting the accuraccy\n",
    "accuracy = (y_pred.round() == Y_test).float().mean()\n",
    "print(f\"Accuracy {accuracy}\")"
   ]
  },
  {
   "cell_type": "code",
   "execution_count": 20,
   "id": "8d8d34ef",
   "metadata": {
    "colab": {
     "base_uri": "https://localhost:8080/"
    },
    "id": "eb156e61-6c5e-41d5-b263-2bfeda7bb47f",
    "outputId": "e8cf6baf-e225-45b9-ba37-84f63f63e389"
   },
   "outputs": [
    {
     "name": "stdout",
     "output_type": "stream",
     "text": [
      "0.6825464367866516 => 1 (expected 1.0)\n",
      "0.09744943678379059 => 0 (expected 0.0)\n",
      "0.28870463371276855 => 0 (expected 0.0)\n",
      "0.537700891494751 => 1 (expected 1.0)\n",
      "0.28779736161231995 => 0 (expected 0.0)\n"
     ]
    }
   ],
   "source": [
    "\n",
    "#Printing the model output for frist 5 data\n",
    "\n",
    "predictions = (model(X_test) > 0.5).int()\n",
    "for i in range(5):\n",
    "    print(f'{y_pred[i].item()} => {predictions[i].item()} (expected {Y_test[i].item()})')"
   ]
  },
  {
   "cell_type": "code",
   "execution_count": 21,
   "id": "849e71d6",
   "metadata": {
    "id": "3a62ccd8-9423-4769-83f7-dd4c3653ea2a"
   },
   "outputs": [],
   "source": [
    "\n",
    "#Augmenting the dataset by adding noise\n",
    "\n",
    "def add_noise(data,target,mean=0,std=0.2):\n",
    "        noise_data = data.clone()\n",
    "        noise = torch.randn(noise_data.size()) * std + mean\n",
    "        noise_data += noise\n",
    "        return torch.cat([data, noise_data],dim=0) , torch.cat([target,target],dim=0)"
   ]
  },
  {
   "cell_type": "code",
   "execution_count": 22,
   "id": "7975fef1",
   "metadata": {
    "id": "54c603c2-0091-42a9-aeb0-267b59cc9f9c"
   },
   "outputs": [],
   "source": [
    "#Calling the function add noise\n",
    "aug_data, aug_target = add_noise(X_train,y_train)"
   ]
  },
  {
   "cell_type": "code",
   "execution_count": 23,
   "id": "15a5f2f4",
   "metadata": {
    "colab": {
     "base_uri": "https://localhost:8080/"
    },
    "id": "02d0c2fd-72a6-4902-aeba-0f530128d8c3",
    "outputId": "9e270f07-4cd4-4f6b-f5c2-70f3a0fe0a59"
   },
   "outputs": [
    {
     "name": "stdout",
     "output_type": "stream",
     "text": [
      "tensor([[1.0000e+00, 1.1100e+02, 6.2000e+01, 1.3000e+01, 1.8200e+02, 2.4000e+01,\n",
      "         1.3800e-01, 2.3000e+01],\n",
      "        [0.0000e+00, 1.0600e+02, 7.0000e+01, 3.7000e+01, 1.4800e+02, 3.9400e+01,\n",
      "         6.0500e-01, 2.2000e+01],\n",
      "        [0.0000e+00, 1.0100e+02, 7.6000e+01, 0.0000e+00, 0.0000e+00, 3.5700e+01,\n",
      "         1.9800e-01, 2.6000e+01],\n",
      "        [6.0000e+00, 8.5000e+01, 7.8000e+01, 0.0000e+00, 0.0000e+00, 3.1200e+01,\n",
      "         3.8200e-01, 4.2000e+01],\n",
      "        [5.0000e+00, 1.1200e+02, 6.6000e+01, 0.0000e+00, 0.0000e+00, 3.7800e+01,\n",
      "         2.6100e-01, 4.1000e+01],\n",
      "        [1.0000e+00, 9.3000e+01, 5.6000e+01, 1.1000e+01, 0.0000e+00, 2.2500e+01,\n",
      "         4.1700e-01, 2.2000e+01],\n",
      "        [1.0000e+00, 8.9000e+01, 7.6000e+01, 3.4000e+01, 3.7000e+01, 3.1200e+01,\n",
      "         1.9200e-01, 2.3000e+01],\n",
      "        [3.0000e+00, 1.1600e+02, 0.0000e+00, 0.0000e+00, 0.0000e+00, 2.3500e+01,\n",
      "         1.8700e-01, 2.3000e+01],\n",
      "        [7.0000e+00, 1.5000e+02, 7.8000e+01, 2.9000e+01, 1.2600e+02, 3.5200e+01,\n",
      "         6.9200e-01, 5.4000e+01],\n",
      "        [0.0000e+00, 1.3500e+02, 6.8000e+01, 4.2000e+01, 2.5000e+02, 4.2300e+01,\n",
      "         3.6500e-01, 2.4000e+01]])\n"
     ]
    },
    {
     "data": {
      "text/plain": [
       "torch.Size([460, 8])"
      ]
     },
     "execution_count": 23,
     "metadata": {},
     "output_type": "execute_result"
    }
   ],
   "source": [
    "print(X_train[:10,:])\n",
    "X_train.shape"
   ]
  },
  {
   "cell_type": "code",
   "execution_count": null,
   "id": "4bb2553a",
   "metadata": {
    "id": "M7pMfri485xi"
   },
   "outputs": [],
   "source": []
  },
  {
   "cell_type": "code",
   "execution_count": 24,
   "id": "f7f366f8",
   "metadata": {
    "colab": {
     "base_uri": "https://localhost:8080/"
    },
    "id": "36549070-5aaa-4053-9ac0-09e357c1167f",
    "outputId": "935f6420-0d08-49ea-c91c-81f853da6327"
   },
   "outputs": [
    {
     "name": "stdout",
     "output_type": "stream",
     "text": [
      "tensor([[ 1.0000e+00,  1.1100e+02,  6.2000e+01,  ...,  2.4000e+01,\n",
      "          1.3800e-01,  2.3000e+01],\n",
      "        [ 0.0000e+00,  1.0600e+02,  7.0000e+01,  ...,  3.9400e+01,\n",
      "          6.0500e-01,  2.2000e+01],\n",
      "        [ 0.0000e+00,  1.0100e+02,  7.6000e+01,  ...,  3.5700e+01,\n",
      "          1.9800e-01,  2.6000e+01],\n",
      "        ...,\n",
      "        [ 4.2315e+00,  1.3411e+02,  7.1743e+01,  ...,  2.3828e+01,\n",
      "          1.9098e-01,  5.9921e+01],\n",
      "        [ 4.8339e+00,  1.2793e+02,  8.0175e+01,  ...,  3.4318e+01,\n",
      "         -1.1057e-01,  4.5066e+01],\n",
      "        [ 1.0543e+00,  7.0930e+01,  7.7860e+01,  ...,  3.2910e+01,\n",
      "          6.2358e-01,  2.1078e+01]])\n"
     ]
    },
    {
     "data": {
      "text/plain": [
       "torch.Size([920, 8])"
      ]
     },
     "execution_count": 24,
     "metadata": {},
     "output_type": "execute_result"
    }
   ],
   "source": [
    "print(aug_data)\n",
    "aug_data.shape"
   ]
  },
  {
   "cell_type": "code",
   "execution_count": 25,
   "id": "bd240713",
   "metadata": {
    "colab": {
     "base_uri": "https://localhost:8080/"
    },
    "id": "917bcd71-d8e8-4e14-bd06-8171d87ea057",
    "outputId": "f10d0973-ffe1-4241-b66e-8dd22a7f6c87"
   },
   "outputs": [
    {
     "data": {
      "text/plain": [
       "torch.Size([920, 8])"
      ]
     },
     "execution_count": 25,
     "metadata": {},
     "output_type": "execute_result"
    }
   ],
   "source": [
    "#printing the augmenting data size\n",
    "aug_data.shape"
   ]
  },
  {
   "cell_type": "code",
   "execution_count": 26,
   "id": "3d8e5e97",
   "metadata": {
    "colab": {
     "base_uri": "https://localhost:8080/"
    },
    "id": "fd3542a5-68d1-4cd5-9d4e-0b4dd103b53f",
    "outputId": "6bb93e43-2844-445c-b732-d490080c8764"
   },
   "outputs": [
    {
     "name": "stdout",
     "output_type": "stream",
     "text": [
      "ANN_Model(\n",
      "  (f_connected1): Linear(in_features=8, out_features=12, bias=True)\n",
      "  (act1): ReLU()\n",
      "  (f_connected2): Linear(in_features=12, out_features=12, bias=True)\n",
      "  (act2): ReLU()\n",
      "  (out): Linear(in_features=12, out_features=1, bias=True)\n",
      "  (act_output): Sigmoid()\n",
      ")\n"
     ]
    }
   ],
   "source": [
    "#Initializing the augmented model\n",
    "aug_model = ANN_Model(8,12,12,1)\n",
    "print(aug_model)"
   ]
  },
  {
   "cell_type": "code",
   "execution_count": 27,
   "id": "8274ec75",
   "metadata": {
    "id": "e1c4f8d6-df46-430d-b251-37b3597f3e7e"
   },
   "outputs": [],
   "source": [
    "#Setting up Loss function and optimizers\n",
    "\n",
    "loss_fn_aug = nn.BCELoss()\n",
    "aug_optimizer = optim.Adam(aug_model.parameters(), lr=0.01)"
   ]
  },
  {
   "cell_type": "code",
   "execution_count": 28,
   "id": "e2b96fe7",
   "metadata": {
    "colab": {
     "base_uri": "https://localhost:8080/"
    },
    "id": "d3b366d2-114c-4762-ac80-77c504fca410",
    "outputId": "99437e33-81eb-4086-e00c-998e4af79730",
    "scrolled": true
   },
   "outputs": [
    {
     "name": "stdout",
     "output_type": "stream",
     "text": [
      "Epoch: 0, Train Loss: 0.7196,  Val Loss: 0.7061\n",
      "Epoch: 10, Train Loss: 0.5711,  Val Loss: 0.5912\n",
      "Epoch: 20, Train Loss: 0.5582,  Val Loss: 0.6068\n",
      "Epoch: 30, Train Loss: 0.5366,  Val Loss: 0.6078\n",
      "Epoch: 40, Train Loss: 0.5207,  Val Loss: 0.5800\n",
      "Epoch: 50, Train Loss: 0.5180,  Val Loss: 0.5702\n",
      "Epoch: 60, Train Loss: 0.5060,  Val Loss: 0.5649\n",
      "Epoch: 70, Train Loss: 0.5074,  Val Loss: 0.5341\n",
      "Epoch: 80, Train Loss: 0.5044,  Val Loss: 0.6216\n",
      "Epoch: 90, Train Loss: 0.5095,  Val Loss: 0.5318\n",
      "Epoch: 100, Train Loss: 0.5057,  Val Loss: 0.5637\n",
      "Epoch: 110, Train Loss: 0.5040,  Val Loss: 0.5425\n",
      "Epoch: 120, Train Loss: 0.5020,  Val Loss: 0.5305\n",
      "Epoch: 130, Train Loss: 0.4957,  Val Loss: 0.5568\n",
      "Epoch: 140, Train Loss: 0.4956,  Val Loss: 0.5614\n"
     ]
    }
   ],
   "source": [
    "#Training the model after augmenting\n",
    "\n",
    "n_epochs = 150\n",
    "batch_size = 15\n",
    "for epoch in range(n_epochs):\n",
    "    model.train()\n",
    "    train_loss = 0\n",
    "    for i in range(0, len(aug_data), batch_size):\n",
    "        Xbatch = aug_data[i:i+batch_size]\n",
    "        y_pred = aug_model(Xbatch)\n",
    "        ybatch = aug_target[i:i+batch_size]\n",
    "        loss = loss_fn_aug(y_pred, ybatch)\n",
    "        aug_optimizer.zero_grad()\n",
    "        loss.backward()\n",
    "        aug_optimizer.step()\n",
    "        train_loss += loss.item()\n",
    "    train_loss /=len(aug_data)/batch_size\n",
    "    model.eval()\n",
    "    with torch.no_grad():\n",
    "        val_loss=0\n",
    "        val_losses=[]\n",
    "        for i in range(0, len(X_val), batch_size):\n",
    "            Xbatch = X_val[i:i+batch_size]\n",
    "            ybatch = y_val[i:i+batch_size]\n",
    "            y_pred=aug_model(Xbatch)\n",
    "            val_loss += loss_fn_aug(y_pred, ybatch)\n",
    "        val_loss /=len(X_val)/batch_size\n",
    "\n",
    "    if epoch % 10 == 0:\n",
    "\n",
    "      print(f\"Epoch: {epoch}, Train Loss: {train_loss:.4f},  Val Loss: {val_loss:.4f}\")"
   ]
  },
  {
   "cell_type": "code",
   "execution_count": 29,
   "id": "673bf1f5",
   "metadata": {
    "colab": {
     "base_uri": "https://localhost:8080/"
    },
    "id": "9f607b89-3e9b-4d73-b9dd-bf32b1f8885e",
    "outputId": "7724181a-3718-4dcf-aab5-c082b2070320"
   },
   "outputs": [
    {
     "name": "stdout",
     "output_type": "stream",
     "text": [
      "Test loss: 0.4669162333011627\n"
     ]
    }
   ],
   "source": [
    "#getting the Loss for Test Data\n",
    "\n",
    "with torch.no_grad():\n",
    "    y_pred = aug_model(X_test)\n",
    "    test_loss = loss_fn_aug(y_pred, Y_test)\n",
    "\n",
    "print(f'Test loss: {test_loss.item()}')"
   ]
  },
  {
   "cell_type": "code",
   "execution_count": 30,
   "id": "42e0b2d6",
   "metadata": {
    "colab": {
     "base_uri": "https://localhost:8080/"
    },
    "id": "700407f3-ccf5-44bc-a372-7e6c6fb65cc9",
    "outputId": "669721e3-8b30-4a45-d812-08218261912b"
   },
   "outputs": [
    {
     "name": "stdout",
     "output_type": "stream",
     "text": [
      "Accuracy: 0.7857142686843872\n"
     ]
    }
   ],
   "source": [
    "#getting the accuracy of the model\n",
    "\n",
    "y_pred=aug_model(X_test)\n",
    "accuracy = (y_pred.round() == Y_test).float().mean()\n",
    "print(f\"Accuracy: {accuracy.item()}\")"
   ]
  },
  {
   "cell_type": "code",
   "execution_count": 31,
   "id": "aa4a06c0",
   "metadata": {
    "colab": {
     "base_uri": "https://localhost:8080/"
    },
    "id": "d81c0ae2-61e4-4a14-a755-9a367e079244",
    "outputId": "0569d8ce-ea52-4a0d-f448-aa36772b78c6"
   },
   "outputs": [
    {
     "name": "stdout",
     "output_type": "stream",
     "text": [
      "0.8943246006965637 => 1 (expected 1.0)\n",
      "0.14000295102596283 => 0 (expected 0.0)\n",
      "0.1269301027059555 => 0 (expected 0.0)\n",
      "0.6056459546089172 => 1 (expected 1.0)\n",
      "0.1766650676727295 => 0 (expected 0.0)\n",
      "0.032149676233530045 => 0 (expected 0.0)\n",
      "0.6392236948013306 => 1 (expected 1.0)\n",
      "0.7189096212387085 => 1 (expected 1.0)\n",
      "0.3792495131492615 => 0 (expected 0.0)\n",
      "0.5235176682472229 => 1 (expected 0.0)\n"
     ]
    }
   ],
   "source": [
    "#Printing the model output for data 10 data\n",
    "\n",
    "predictions = (aug_model(X_test) > 0.5).int()\n",
    "for i in range(10):\n",
    "    print(f'{y_pred[i].item()} => {predictions[i].item()} (expected {Y_test[i].item()})')"
   ]
  },
  {
   "cell_type": "code",
   "execution_count": null,
   "id": "fa979573",
   "metadata": {
    "id": "9fe396a2-98a6-443c-b7f1-6a6dd0cf994f"
   },
   "outputs": [],
   "source": []
  }
 ],
 "metadata": {
  "colab": {
   "provenance": []
  },
  "kernelspec": {
   "display_name": "Python 3 (ipykernel)",
   "language": "python",
   "name": "python3"
  },
  "language_info": {
   "codemirror_mode": {
    "name": "ipython",
    "version": 3
   },
   "file_extension": ".py",
   "mimetype": "text/x-python",
   "name": "python",
   "nbconvert_exporter": "python",
   "pygments_lexer": "ipython3",
   "version": "3.8.10"
  }
 },
 "nbformat": 4,
 "nbformat_minor": 5
}
