{
 "cells": [
  {
   "cell_type": "code",
   "execution_count": 8,
   "id": "40230379",
   "metadata": {},
   "outputs": [],
   "source": [
    "import torch\n",
    "import torch.nn as nn\n",
    "import torch.quantization\n",
    "from torchvision import transforms\n",
    "from PIL import Image\n",
    "import torchvision.datasets as datasets\n",
    "import pickle\n",
    "import torchvision"
   ]
  },
  {
   "cell_type": "code",
   "execution_count": 2,
   "id": "3829c4c6",
   "metadata": {},
   "outputs": [
    {
     "data": {
      "text/plain": [
       "device(type='cpu')"
      ]
     },
     "execution_count": 2,
     "metadata": {},
     "output_type": "execute_result"
    }
   ],
   "source": [
    "device = torch.device(\"cuda:0\" if torch.cuda.is_available() else \"cpu\")\n",
    "device"
   ]
  },
  {
   "cell_type": "code",
   "execution_count": 3,
   "id": "3b357020",
   "metadata": {},
   "outputs": [],
   "source": [
    "transform = transforms.Compose([\n",
    "    transforms.ToTensor(),\n",
    "    transforms.Normalize((0.5, 0.5, 0.5), (0.5, 0.5, 0.5))\n",
    "])"
   ]
  },
  {
   "cell_type": "code",
   "execution_count": 4,
   "id": "914a9c20",
   "metadata": {},
   "outputs": [],
   "source": [
    "test_dataset = datasets.CIFAR10('./data', train=False, transform=transform)\n",
    "test_loader = torch.utils.data.DataLoader(test_dataset, batch_size=100, shuffle=False)"
   ]
  },
  {
   "cell_type": "code",
   "execution_count": 5,
   "id": "f34ad42e",
   "metadata": {},
   "outputs": [],
   "source": [
    "model = torch.jit.load('static_.pth', map_location=device)"
   ]
  },
  {
   "cell_type": "code",
   "execution_count": 6,
   "id": "3d05e062",
   "metadata": {},
   "outputs": [],
   "source": [
    "import time\n",
    "def evaluate_model(model,device):\n",
    "    model = model.to(device)\n",
    "    correct = 0\n",
    "    total = 0\n",
    "    with torch.no_grad():\n",
    "        for data in test_loader:\n",
    "            images, labels = data\n",
    "            images, labels = images.to(device), labels.to(device)\n",
    "            st = time.time()\n",
    "            outputs = model(images)\n",
    "            et = time.time()\n",
    "            _, predicted = torch.max(outputs.data, 1)\n",
    "            total += labels.size(0)\n",
    "            correct += (predicted == labels).sum().item()\n",
    "    print(f'Accuracy: {100 * correct // total} %')\n",
    "    print('Elapsed time = {:0.4f} milliseconds'.format((et - st) * 1000))\n",
    "    print(\"====================================================================================================\")"
   ]
  },
  {
   "cell_type": "code",
   "execution_count": 7,
   "id": "9de7089f",
   "metadata": {},
   "outputs": [
    {
     "name": "stdout",
     "output_type": "stream",
     "text": [
      "=====================================AFTER WEIGHT PRUNING========================================\n",
      "Accuracy: 76 %\n",
      "Elapsed time = 9.4879 milliseconds\n",
      "====================================================================================================\n"
     ]
    }
   ],
   "source": [
    "device ='cpu'\n",
    "print(\"=====================================AFTER WEIGHT PRUNING========================================\")\n",
    "evaluate_model(model,device)"
   ]
  },
  {
   "cell_type": "code",
   "execution_count": 26,
   "id": "99a6d396",
   "metadata": {
    "scrolled": true
   },
   "outputs": [
    {
     "name": "stdout",
     "output_type": "stream",
     "text": [
      "Predicted: ship, Target: ship\n",
      "Predicted: dog, Target: dog\n",
      "Predicted: airplane, Target: automobile\n",
      "Predicted: frog, Target: frog\n",
      "Predicted: ship, Target: ship\n",
      "Predicted: frog, Target: frog\n",
      "Predicted: dog, Target: dog\n",
      "Predicted: bird, Target: bird\n",
      "Predicted: automobile, Target: automobile\n",
      "Predicted: frog, Target: frog\n",
      "Predicted: airplane, Target: airplane\n",
      "Predicted: ship, Target: ship\n",
      "Predicted: horse, Target: horse\n",
      "Predicted: automobile, Target: automobile\n",
      "Predicted: deer, Target: deer\n",
      "Predicted: frog, Target: bird\n",
      "Predicted: truck, Target: truck\n",
      "Predicted: dog, Target: dog\n",
      "Predicted: deer, Target: deer\n",
      "Predicted: dog, Target: dog\n",
      "Predicted: dog, Target: dog\n",
      "Predicted: frog, Target: frog\n",
      "Predicted: dog, Target: dog\n",
      "Predicted: bird, Target: bird\n",
      "Predicted: cat, Target: cat\n",
      "Predicted: deer, Target: deer\n",
      "Predicted: automobile, Target: automobile\n",
      "Predicted: truck, Target: automobile\n",
      "Predicted: dog, Target: dog\n",
      "Predicted: bird, Target: bird\n",
      "Predicted: automobile, Target: automobile\n",
      "Predicted: horse, Target: horse\n",
      "Predicted: frog, Target: frog\n",
      "Predicted: airplane, Target: ship\n",
      "Predicted: bird, Target: bird\n",
      "Predicted: automobile, Target: truck\n",
      "Predicted: dog, Target: airplane\n",
      "Predicted: automobile, Target: automobile\n",
      "Predicted: bird, Target: bird\n",
      "Predicted: ship, Target: cat\n",
      "Predicted: bird, Target: bird\n",
      "Predicted: deer, Target: bird\n",
      "Predicted: automobile, Target: automobile\n",
      "Predicted: frog, Target: frog\n",
      "Predicted: automobile, Target: automobile\n",
      "Predicted: dog, Target: dog\n",
      "Predicted: bird, Target: bird\n",
      "Predicted: airplane, Target: airplane\n",
      "Predicted: bird, Target: bird\n",
      "Predicted: airplane, Target: airplane\n",
      "Predicted: frog, Target: frog\n",
      "Predicted: dog, Target: dog\n",
      "Predicted: automobile, Target: automobile\n",
      "Predicted: horse, Target: horse\n",
      "Predicted: bird, Target: bird\n",
      "Predicted: frog, Target: frog\n",
      "Predicted: horse, Target: horse\n",
      "Predicted: dog, Target: cat\n",
      "Predicted: truck, Target: truck\n",
      "Predicted: frog, Target: dog\n",
      "Predicted: truck, Target: airplane\n",
      "Predicted: truck, Target: truck\n",
      "Predicted: cat, Target: cat\n",
      "Predicted: automobile, Target: automobile\n",
      "Predicted: bird, Target: deer\n",
      "Predicted: bird, Target: bird\n",
      "Predicted: airplane, Target: airplane\n",
      "Predicted: automobile, Target: automobile\n",
      "Predicted: frog, Target: frog\n",
      "Predicted: horse, Target: bird\n",
      "Predicted: automobile, Target: automobile\n",
      "Predicted: frog, Target: frog\n",
      "Predicted: deer, Target: deer\n",
      "Predicted: frog, Target: frog\n",
      "Predicted: dog, Target: cat\n",
      "Predicted: truck, Target: truck\n",
      "Predicted: ship, Target: ship\n",
      "Predicted: airplane, Target: airplane\n",
      "Predicted: deer, Target: deer\n",
      "Predicted: automobile, Target: automobile\n",
      "Predicted: automobile, Target: automobile\n",
      "Predicted: ship, Target: ship\n",
      "Predicted: cat, Target: cat\n",
      "Predicted: dog, Target: dog\n",
      "Predicted: airplane, Target: cat\n",
      "Predicted: ship, Target: ship\n",
      "Predicted: dog, Target: cat\n",
      "Predicted: ship, Target: ship\n",
      "Predicted: deer, Target: deer\n",
      "Predicted: horse, Target: dog\n",
      "Predicted: automobile, Target: automobile\n",
      "Predicted: ship, Target: ship\n",
      "Predicted: cat, Target: cat\n",
      "Predicted: frog, Target: horse\n",
      "Predicted: truck, Target: truck\n",
      "Predicted: frog, Target: frog\n",
      "Predicted: frog, Target: automobile\n",
      "Predicted: deer, Target: deer\n",
      "Predicted: frog, Target: frog\n",
      "Predicted: frog, Target: cat\n"
     ]
    }
   ],
   "source": [
    "classes = [\n",
    "    'airplane', 'automobile', 'bird', 'cat', 'deer',\n",
    "    'dog', 'frog', 'horse', 'ship', 'truck']\n",
    "\n",
    "#img, label = testset[9]\n",
    "\n",
    "# evens = list(range(0, len(trainset), 2))\n",
    "odds = list(range(1,len(test_dataset), 100))\n",
    "test_data = torch.utils.data.Subset(test_dataset, odds)\n",
    "\n",
    "\n",
    "\n",
    "for img, label in test_data:\n",
    "    model.eval()\n",
    "    # img_pil = transform(img)  # Convert to PIL Image\n",
    "    # print(f\"Image shape after ToPILImage: {img_pil.size}\")\n",
    "    img = img.unsqueeze(0)\n",
    "\n",
    "    with torch.no_grad():\n",
    "        output = model(img)\n",
    "        _, test = torch.max(output, 1)\n",
    "        print(f\"Predicted: {classes[test.item()]}, Target: {classes[label]}\")"
   ]
  },
  {
   "cell_type": "code",
   "execution_count": null,
   "id": "e25aef41",
   "metadata": {},
   "outputs": [],
   "source": []
  }
 ],
 "metadata": {
  "kernelspec": {
   "display_name": "Python 3 (ipykernel)",
   "language": "python",
   "name": "python3"
  },
  "language_info": {
   "codemirror_mode": {
    "name": "ipython",
    "version": 3
   },
   "file_extension": ".py",
   "mimetype": "text/x-python",
   "name": "python",
   "nbconvert_exporter": "python",
   "pygments_lexer": "ipython3",
   "version": "3.8.10"
  }
 },
 "nbformat": 4,
 "nbformat_minor": 5
}
